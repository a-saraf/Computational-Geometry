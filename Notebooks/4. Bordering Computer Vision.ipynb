{
 "cells": [
  {
   "cell_type": "markdown",
   "id": "thermal-david",
   "metadata": {},
   "source": [
    "Some basic code to import modules and load and show the initial image\n"
   ]
  },
  {
   "cell_type": "code",
   "execution_count": 1,
   "id": "confidential-workshop",
   "metadata": {},
   "outputs": [],
   "source": [
    "import cv2 as cv\n",
    "import numpy as np\n",
    "\n",
    "img = cv.imread(\"loki.png\")\n",
    "\n",
    "cv.imshow(\"Loki\", img)\n",
    "cv.waitKey(0)\n",
    "cv.destroyAllWindows()"
   ]
  },
  {
   "cell_type": "markdown",
   "id": "competent-variety",
   "metadata": {},
   "source": [
    "## Canny Edge Detection Method"
   ]
  },
  {
   "cell_type": "code",
   "execution_count": 15,
   "id": "manufactured-plane",
   "metadata": {},
   "outputs": [],
   "source": [
    "canny = cv.Canny(img, 100, 200)\n",
    "\n",
    "cv.imshow(\"Canny Loki\", canny)\n",
    "cv.imshow(\"Un-Canny Loki\", img)\n",
    "cv.waitKey(0)\n",
    "cv.destroyAllWindows()"
   ]
  },
  {
   "cell_type": "markdown",
   "id": "requested-shock",
   "metadata": {},
   "source": [
    "## Sobel Edge Detection Method"
   ]
  },
  {
   "cell_type": "code",
   "execution_count": 17,
   "id": "afraid-swimming",
   "metadata": {},
   "outputs": [],
   "source": [
    "img_gray = cv.cvtColor(img, cv.COLOR_BGR2GRAY)\n",
    "img_blur = cv.GaussianBlur(img_gray, (3,3), 0)\n",
    "\n",
    "sobel = cv.Sobel(src = img_blur, ddepth = cv.CV_64F, dx = 1, dy = 1, ksize = 5)\n",
    "\n",
    "cv.imshow(\"Sobel Loki\", sobel)\n",
    "cv.imshow(\"Nobel Loki\", img)\n",
    "cv.waitKey(0)\n",
    "cv.destroyAllWindows()"
   ]
  },
  {
   "cell_type": "code",
   "execution_count": null,
   "id": "talented-lunch",
   "metadata": {},
   "outputs": [],
   "source": []
  }
 ],
 "metadata": {
  "kernelspec": {
   "display_name": "Python 3",
   "language": "python",
   "name": "python3"
  },
  "language_info": {
   "codemirror_mode": {
    "name": "ipython",
    "version": 3
   },
   "file_extension": ".py",
   "mimetype": "text/x-python",
   "name": "python",
   "nbconvert_exporter": "python",
   "pygments_lexer": "ipython3",
   "version": "3.9.5"
  }
 },
 "nbformat": 4,
 "nbformat_minor": 5
}
