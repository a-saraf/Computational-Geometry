{
 "cells": [
  {
   "cell_type": "markdown",
   "id": "israeli-license",
   "metadata": {},
   "source": [
    "## Loading in the image"
   ]
  },
  {
   "cell_type": "code",
   "execution_count": 12,
   "id": "personalized-consultancy",
   "metadata": {},
   "outputs": [],
   "source": [
    "import cv2 as cv\n",
    "import numpy as np\n",
    "\n",
    "img = cv.imread(\"penguins.jpg\")\n",
    "\n",
    "cv.imshow(\"Penguins\", img)\n",
    "cv.waitKey(0)\n",
    "cv.destroyAllWindows()"
   ]
  },
  {
   "cell_type": "markdown",
   "id": "personalized-bryan",
   "metadata": {},
   "source": [
    "## Scaling Rotating and Translating"
   ]
  },
  {
   "cell_type": "markdown",
   "id": "psychological-switzerland",
   "metadata": {},
   "source": [
    "Scaling :- There are three types of scaling in '''OpenCV''', namely:-\n",
    "<ul>\n",
    "    <li>Scaling with Linear interpolation</li>\n",
    "    <li>Scaling with Cubic interpolation</li>\n",
    "    <li>Skewed Scaling</li>\n",
    "</ul>\n"
   ]
  },
  {
   "cell_type": "code",
   "execution_count": 9,
   "id": "polish-magnitude",
   "metadata": {},
   "outputs": [],
   "source": [
    "img_scaled1 = cv.resize(img, None, fx = 0.5, fy = 0.5, interpolation = cv.INTER_LINEAR)\n",
    "img_scaled2 = cv.resize(img, None, fx = 0.5, fy = 0.5, interpolation = cv.INTER_CUBIC)\n",
    "img_scaled3 = cv.resize(img, (450, 400), interpolation = cv.INTER_AREA)\n",
    "\n",
    "cv.imshow(\"Linear Scaling\", img_scaled1)\n",
    "cv.imshow(\"Cubic Scaling\", img_scaled2)\n",
    "cv.imshow(\"Skewed Scaling\", img_scaled3)\n",
    "cv.waitKey(0)\n",
    "cv.destroyAllWindows()"
   ]
  },
  {
   "cell_type": "markdown",
   "id": "checked-palmer",
   "metadata": {},
   "source": [
    "Rotating"
   ]
  },
  {
   "cell_type": "code",
   "execution_count": 10,
   "id": "exterior-rogers",
   "metadata": {},
   "outputs": [],
   "source": [
    "h, w, c = img.shape\n",
    "centre = (h//2, w//2)\n",
    "degrees = 15\n",
    "\n",
    "rot_matrix = cv.getRotationMatrix2D(centre, degrees, 1.0)\n",
    "img_rotate = cv.warpAffine(img, rot_matrix, (w, h))\n",
    "\n",
    "cv.imshow(\"Rotated\", img_rotate)\n",
    "cv.waitKey(0)\n",
    "cv.destroyAllWindows()"
   ]
  },
  {
   "cell_type": "markdown",
   "id": "gothic-representation",
   "metadata": {},
   "source": [
    "Translating"
   ]
  },
  {
   "cell_type": "code",
   "execution_count": 13,
   "id": "rising-mechanism",
   "metadata": {},
   "outputs": [],
   "source": [
    "twidth = 100\n",
    "theight = 200\n",
    "\n",
    "translated_matrix = np.float32([[1, 0, twidth], [0, 1, theight]])\n",
    "\n",
    "img_translated = cv.warpAffine(img, translated_matrix, (w, h))\n",
    "\n",
    "cv.imshow(\"Translation\", img_translated)\n",
    "cv.waitKey(0)\n",
    "cv.destroyAllWindows()"
   ]
  },
  {
   "cell_type": "markdown",
   "id": "known-bulgaria",
   "metadata": {},
   "source": [
    "## Histogram analysis and equalisation"
   ]
  },
  {
   "cell_type": "code",
   "execution_count": 15,
   "id": "desperate-server",
   "metadata": {},
   "outputs": [],
   "source": [
    "img_gray = cv.imread(\"penguins.jpg\", 0)\n",
    "\n",
    "img_equalized = cv.equalizeHist(img_gray)\n",
    "\n",
    "cv.imshow(\"Original\", img_gray)\n",
    "cv.imshow(\"Equalized\", img_equalized)\n",
    "cv.waitKey(0)\n",
    "cv.destroyAllWindows()"
   ]
  },
  {
   "cell_type": "markdown",
   "id": "comparable-justice",
   "metadata": {},
   "source": [
    "## Simple Thresholding"
   ]
  },
  {
   "cell_type": "code",
   "execution_count": 19,
   "id": "compatible-headset",
   "metadata": {},
   "outputs": [],
   "source": [
    "ret, threshold_img = cv.threshold(img_gray, 127, 255, cv.THRESH_BINARY)\n",
    "\n",
    "cv.imshow(\"Thresholding\", threshold_img)\n",
    "cv.waitKey(0)\n",
    "cv.destroyAllWindows()"
   ]
  },
  {
   "cell_type": "markdown",
   "id": "infectious-anger",
   "metadata": {},
   "source": [
    "## Otsu Thresholding"
   ]
  },
  {
   "cell_type": "code",
   "execution_count": 21,
   "id": "received-strategy",
   "metadata": {},
   "outputs": [],
   "source": [
    "ret, img_otsu = cv.threshold(img_gray, 0, 255, cv.THRESH_OTSU)\n",
    "\n",
    "cv.imshow(\"Otsu Thresholding\", img_otsu)\n",
    "cv.waitKey(0)\n",
    "cv.destroyAllWindows()"
   ]
  }
 ],
 "metadata": {
  "kernelspec": {
   "display_name": "Python 3",
   "language": "python",
   "name": "python3"
  },
  "language_info": {
   "codemirror_mode": {
    "name": "ipython",
    "version": 3
   },
   "file_extension": ".py",
   "mimetype": "text/x-python",
   "name": "python",
   "nbconvert_exporter": "python",
   "pygments_lexer": "ipython3",
   "version": "3.9.5"
  }
 },
 "nbformat": 4,
 "nbformat_minor": 5
}
